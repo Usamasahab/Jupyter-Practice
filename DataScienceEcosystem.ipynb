{
 "cells": [
  {
   "cell_type": "markdown",
   "id": "579286dc-9d6c-4d40-b3ac-9dcf89fb0760",
   "metadata": {},
   "source": [
    "# Data Science Tools and Ecosystem"
   ]
  },
  {
   "cell_type": "markdown",
   "id": "5ae12891-2c43-4370-b446-c0a7bec2a36e",
   "metadata": {},
   "source": [
    "## In this notebook, Data Science Tools and Ecosystem are summarized"
   ]
  },
  {
   "cell_type": "markdown",
   "id": "4a8620c7-1256-4604-9404-46db4a483971",
   "metadata": {},
   "source": [
    "**Objectives**\n",
    "- popular languages that Data Scientists\n",
    "- commonly used libraries used by Data Scientists\n",
    "- Data Science Tools"
   ]
  },
  {
   "cell_type": "markdown",
   "id": "353f3df1-719f-4746-871a-1ab2d79c6528",
   "metadata": {},
   "source": [
    "### Some of the popular languages that Data Scientists use are:"
   ]
  },
  {
   "cell_type": "markdown",
   "id": "375e0813-af20-448c-baab-2c6601453da5",
   "metadata": {},
   "source": [
    "1. Python\n",
    "2. R\n",
    "3. Julia"
   ]
  },
  {
   "cell_type": "markdown",
   "id": "be3cd314-ef8f-47a8-b515-a968134c4259",
   "metadata": {},
   "source": [
    "### Some of the commonly used libraries used by Data Scientists include:"
   ]
  },
  {
   "cell_type": "markdown",
   "id": "1b6426ea-154a-465a-b186-e94f77bd9c52",
   "metadata": {},
   "source": [
    "1. Matplotlib\n",
    "2. NumPy \n",
    "3. Pandas\n",
    "4. Scikitlearn"
   ]
  },
  {
   "cell_type": "markdown",
   "id": "967088ea-c803-4607-b532-8ad378ca1b62",
   "metadata": {},
   "source": [
    " |Data Science Tools|\n",
    " |----|\n",
    " |\n",
    "Jupyter Noteboo|\n",
    " |R-Studio|\n",
    " |IBM Watson Studio |k\n",
    " "
   ]
  },
  {
   "cell_type": "markdown",
   "id": "58505d2b-d052-48d9-9ea7-e3986f29a543",
   "metadata": {},
   "source": [
    "### Below are a few examples of evaluating arithmetic expressions in Python"
   ]
  },
  {
   "cell_type": "code",
   "execution_count": 7,
   "id": "af40db2b-6eae-4c44-849e-b4b804d428ef",
   "metadata": {},
   "outputs": [
    {
     "data": {
      "text/plain": [
       "17"
      ]
     },
     "execution_count": 7,
     "metadata": {},
     "output_type": "execute_result"
    }
   ],
   "source": [
    "#This a simple arithmetic expression to mutiply then add integers\n",
    "(3*4)+5"
   ]
  },
  {
   "cell_type": "code",
   "execution_count": 25,
   "id": "92ea5b92-62ca-4cd1-9bf3-178276fcb73f",
   "metadata": {},
   "outputs": [
    {
     "data": {
      "text/plain": [
       "3.3333333333333335"
      ]
     },
     "execution_count": 25,
     "metadata": {},
     "output_type": "execute_result"
    }
   ],
   "source": [
    "#This will convert 200 minutes to hours by diving by 60\n",
    "200/60 "
   ]
  },
  {
   "cell_type": "markdown",
   "id": "914fdeaa-44f4-4037-9068-fe8552db3d76",
   "metadata": {},
   "source": [
    "### Author\n",
    "Mohammad Usam"
   ]
  },
  {
   "cell_type": "code",
   "execution_count": null,
   "id": "ebd8caca-0a61-4bbb-85d5-faf2b27486aa",
   "metadata": {},
   "outputs": [],
   "source": []
  }
 ],
 "metadata": {
  "kernelspec": {
   "display_name": "Python 3 (ipykernel)",
   "language": "python",
   "name": "python3"
  },
  "language_info": {
   "codemirror_mode": {
    "name": "ipython",
    "version": 3
   },
   "file_extension": ".py",
   "mimetype": "text/x-python",
   "name": "python",
   "nbconvert_exporter": "python",
   "pygments_lexer": "ipython3",
   "version": "3.11.7"
  }
 },
 "nbformat": 4,
 "nbformat_minor": 5
}
